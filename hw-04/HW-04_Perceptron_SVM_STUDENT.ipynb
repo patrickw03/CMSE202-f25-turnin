{
 "cells": [
  {
   "cell_type": "markdown",
   "id": "37abd0c1-f3bc-4c91-80b2-3b14f385ef97",
   "metadata": {},
   "source": [
    "# Homework 4\n",
    "# Perceptron, SVM, and PCA"
   ]
  },
  {
   "cell_type": "markdown",
   "id": "ed41a524-ade8-4277-bffc-7547379f9d22",
   "metadata": {},
   "source": [
    "# <p style=\"text-align: right;\"> &#9989; Patrick Wilusz</p>\n",
    "# <p style=\"text-align: right;\"> &#9989; patrickw03</p>"
   ]
  },
  {
   "cell_type": "markdown",
   "id": "665e13b3-c564-4b25-9e3f-8bef7e3cd6e3",
   "metadata": {},
   "source": [
    "# Goal for this homework assignment\n",
    "We have worked some basics on perceptron, SVM, and PCA in the pre-class and in-class assignments. In this homework assignment, we will:\n",
    "\n",
    "* Continue to use git as the version control tool\n",
    "* Work on unfamiliar data\n",
    "* Use perceptron to classify data \n",
    "* Use SVM to classify data\n",
    "* Use principal component analysis to facilitate classification\n",
    "\n",
    "\n",
    "**This assignment is due by 11:59 pm on Friday, April 25th. Note that ONLY the copy on GITHUB will be graded.**  **There are 60 standard points possible in this assignment including points for Git commits/pushes. The distribution of points can be found in the section headers**."
   ]
  },
  {
   "cell_type": "markdown",
   "id": "199515ba-e709-40e2-a189-5da69a6f1699",
   "metadata": {},
   "source": [
    "---\n",
    "# Part 1: Git repository (6 points)\n",
    "\n",
    "You're going to add this assignment to the `cmse202-s25-turnin` repository you previously created. The history of progress on the assignment will be tracked via git commitments. \n",
    "\n",
    "**&#9989; Do the following**:\n",
    "\n",
    "1. Navigate to your `cmse202-s25-turnin` **local** repository and create a new directory called `hw-04`\n",
    "\n",
    "2. Move this notebook into that **new directory** in your repository. \n",
    "\n",
    "5. Double check to make sure your file is at the correct directory.\n",
    "\n",
    "6. Once you're certain that file and directory are correct, add this notebook to your repository, then make a commit and push it to GitHub. You may need to use `git push origin hw04` to push your file to GitHub.\n",
    "\n",
    "Finally, &#9989; **Do this**: Before you move on, put the command that your instructor should run to clone your repository in the markdown cell below. **Points for this part will be given for correctly setting up branch, etc., above, and for doing git commits/pushes mentioned throughout the assignment.**"
   ]
  },
  {
   "cell_type": "markdown",
   "id": "329e549e-214b-4858-930f-e2b7c9015580",
   "metadata": {},
   "source": [
    "<font size=6 color=\"#009600\">&#9998;</font> git clone https://github.com/patrickw03/CMSE202-f25-turnin.git"
   ]
  },
  {
   "cell_type": "markdown",
   "id": "45e93e6e-2297-490f-b1c8-a87bbd9d4814",
   "metadata": {},
   "source": [
    "**Important**: Double check you've added your Professor and your TA as collaborators to your \"turnin\" repository (you should have done this in the previous homework assignment).\n",
    "\n",
    "**Also important**: Make sure that the version of this notebook that you are working on is the same one that you just added to your repository! If you are working on a different copy of the notebook, **none of your changes will be tracked**!\n",
    "\n",
    "If everything went as intended, the file should now show up on your GitHub account in the \"`cmse202-s25-turnin`\" repository inside the `hw-04` directory that you just created.\n",
    "\n",
    "Periodically, **you'll be asked to commit your changes to the repository and push them to the remote GitHub location**. Of course, you can always commit your changes more often than that, if you wish.  It can be good to get into a habit of committing your changes any time you make a significant modification, or when you stop working on the problems for a bit."
   ]
  },
  {
   "cell_type": "markdown",
   "id": "40b2cd6e-5eac-4817-afad-c1d8ab86214b",
   "metadata": {},
   "source": [
    "---\n",
    "# Part 2: Deal with unfamiliar data (35 points)\n",
    "\n",
    "## Warm up with perceptron for binary classification\n",
    "## 2.1 Load up the dataset\n",
    "\n",
    "This data is obtained from Kaggle/diabetes. It contains multiple measured values and a label for whether the patient is diagnosed as diabetic. \n",
    "\n",
    "* Use commands to dowdload the dataset from `https://raw.githubusercontent.com/huichiayu/cmse202-s25-supllemental_data/refs/heads/main/HW04/diabetes_prediction_dataset.csv`\n",
    "* Use Pandas to load in the data and briefly examine it.\n",
    "* Succeed data load-up gets **2 pt**. "
   ]
  },
  {
   "cell_type": "code",
   "execution_count": 2,
   "id": "c8dde6c3-799e-480b-ac67-a8e0d2716b7a",
   "metadata": {},
   "outputs": [
    {
     "data": {
      "text/html": [
       "<div>\n",
       "<style scoped>\n",
       "    .dataframe tbody tr th:only-of-type {\n",
       "        vertical-align: middle;\n",
       "    }\n",
       "\n",
       "    .dataframe tbody tr th {\n",
       "        vertical-align: top;\n",
       "    }\n",
       "\n",
       "    .dataframe thead th {\n",
       "        text-align: right;\n",
       "    }\n",
       "</style>\n",
       "<table border=\"1\" class=\"dataframe\">\n",
       "  <thead>\n",
       "    <tr style=\"text-align: right;\">\n",
       "      <th></th>\n",
       "      <th>gender</th>\n",
       "      <th>age</th>\n",
       "      <th>hypertension</th>\n",
       "      <th>heart_disease</th>\n",
       "      <th>smoking_history</th>\n",
       "      <th>bmi</th>\n",
       "      <th>HbA1c_level</th>\n",
       "      <th>blood_glucose_level</th>\n",
       "      <th>diabetes</th>\n",
       "    </tr>\n",
       "  </thead>\n",
       "  <tbody>\n",
       "    <tr>\n",
       "      <th>0</th>\n",
       "      <td>Female</td>\n",
       "      <td>80.0</td>\n",
       "      <td>0</td>\n",
       "      <td>1</td>\n",
       "      <td>never</td>\n",
       "      <td>25.19</td>\n",
       "      <td>6.6</td>\n",
       "      <td>140</td>\n",
       "      <td>0</td>\n",
       "    </tr>\n",
       "    <tr>\n",
       "      <th>1</th>\n",
       "      <td>Female</td>\n",
       "      <td>54.0</td>\n",
       "      <td>0</td>\n",
       "      <td>0</td>\n",
       "      <td>No Info</td>\n",
       "      <td>27.32</td>\n",
       "      <td>6.6</td>\n",
       "      <td>80</td>\n",
       "      <td>0</td>\n",
       "    </tr>\n",
       "    <tr>\n",
       "      <th>2</th>\n",
       "      <td>Male</td>\n",
       "      <td>28.0</td>\n",
       "      <td>0</td>\n",
       "      <td>0</td>\n",
       "      <td>never</td>\n",
       "      <td>27.32</td>\n",
       "      <td>5.7</td>\n",
       "      <td>158</td>\n",
       "      <td>0</td>\n",
       "    </tr>\n",
       "    <tr>\n",
       "      <th>3</th>\n",
       "      <td>Female</td>\n",
       "      <td>36.0</td>\n",
       "      <td>0</td>\n",
       "      <td>0</td>\n",
       "      <td>current</td>\n",
       "      <td>23.45</td>\n",
       "      <td>5.0</td>\n",
       "      <td>155</td>\n",
       "      <td>0</td>\n",
       "    </tr>\n",
       "    <tr>\n",
       "      <th>4</th>\n",
       "      <td>Male</td>\n",
       "      <td>76.0</td>\n",
       "      <td>1</td>\n",
       "      <td>1</td>\n",
       "      <td>current</td>\n",
       "      <td>20.14</td>\n",
       "      <td>4.8</td>\n",
       "      <td>155</td>\n",
       "      <td>0</td>\n",
       "    </tr>\n",
       "  </tbody>\n",
       "</table>\n",
       "</div>"
      ],
      "text/plain": [
       "   gender   age  hypertension  heart_disease smoking_history    bmi  \\\n",
       "0  Female  80.0             0              1           never  25.19   \n",
       "1  Female  54.0             0              0         No Info  27.32   \n",
       "2    Male  28.0             0              0           never  27.32   \n",
       "3  Female  36.0             0              0         current  23.45   \n",
       "4    Male  76.0             1              1         current  20.14   \n",
       "\n",
       "   HbA1c_level  blood_glucose_level  diabetes  \n",
       "0          6.6                  140         0  \n",
       "1          6.6                   80         0  \n",
       "2          5.7                  158         0  \n",
       "3          5.0                  155         0  \n",
       "4          4.8                  155         0  "
      ]
     },
     "execution_count": 2,
     "metadata": {},
     "output_type": "execute_result"
    }
   ],
   "source": [
    "# put your code here\n",
    "import pandas as pd\n",
    "\n",
    "df = pd.read_csv(\"diabetes_prediction_dataset.csv\")\n",
    "\n",
    "df.head()"
   ]
  },
  {
   "cell_type": "markdown",
   "id": "2ac61eaf-8d5a-4889-8c9a-624aeefc511d",
   "metadata": {},
   "source": [
    "How many patients are in this dataset? What are features of the patients?"
   ]
  },
  {
   "cell_type": "markdown",
   "id": "bc156a61-260e-401d-a92d-d80a0016be0b",
   "metadata": {},
   "source": [
    "<font size=6 color=\"#009600\">&#9998;</font> 4. gender, age, hypertension, heart disease, smoking history, bmi, hba1c level, blood glucose level, diabetes"
   ]
  },
  {
   "cell_type": "markdown",
   "id": "82b0e656-57ad-4757-b1c5-fa51c9aef9f9",
   "metadata": {},
   "source": [
    "### Use your perceptron class built in Day18 and Day19 assignments to classify whether patients are diabetic.\n",
    "\n",
    "* You should see that there are some features that are non-numerics.\n",
    "* The first one is `gender`. Find the types of classes and convert them to numerics in your dataframe.\n",
    "* The second one is `smoking_history`, convert those string labels to numerics.\n",
    "* Note that since perceptron is a binary classifier, which only determines which side of the dividing line the data points reside, we should also convert the labels to `+1` and `-1`.\n",
    "* Completing data conversion gets **5 pt**."
   ]
  },
  {
   "cell_type": "code",
   "execution_count": 4,
   "id": "4af4a995-58a7-4478-9e3e-b805ab21779f",
   "metadata": {},
   "outputs": [
    {
     "data": {
      "text/html": [
       "<div>\n",
       "<style scoped>\n",
       "    .dataframe tbody tr th:only-of-type {\n",
       "        vertical-align: middle;\n",
       "    }\n",
       "\n",
       "    .dataframe tbody tr th {\n",
       "        vertical-align: top;\n",
       "    }\n",
       "\n",
       "    .dataframe thead th {\n",
       "        text-align: right;\n",
       "    }\n",
       "</style>\n",
       "<table border=\"1\" class=\"dataframe\">\n",
       "  <thead>\n",
       "    <tr style=\"text-align: right;\">\n",
       "      <th></th>\n",
       "      <th>gender</th>\n",
       "      <th>age</th>\n",
       "      <th>hypertension</th>\n",
       "      <th>heart_disease</th>\n",
       "      <th>smoking_history</th>\n",
       "      <th>bmi</th>\n",
       "      <th>HbA1c_level</th>\n",
       "      <th>blood_glucose_level</th>\n",
       "      <th>diabetes</th>\n",
       "    </tr>\n",
       "  </thead>\n",
       "  <tbody>\n",
       "    <tr>\n",
       "      <th>0</th>\n",
       "      <td>1</td>\n",
       "      <td>80.0</td>\n",
       "      <td>0</td>\n",
       "      <td>1</td>\n",
       "      <td>4</td>\n",
       "      <td>25.19</td>\n",
       "      <td>6.6</td>\n",
       "      <td>140</td>\n",
       "      <td>-1</td>\n",
       "    </tr>\n",
       "    <tr>\n",
       "      <th>1</th>\n",
       "      <td>1</td>\n",
       "      <td>54.0</td>\n",
       "      <td>0</td>\n",
       "      <td>0</td>\n",
       "      <td>0</td>\n",
       "      <td>27.32</td>\n",
       "      <td>6.6</td>\n",
       "      <td>80</td>\n",
       "      <td>-1</td>\n",
       "    </tr>\n",
       "    <tr>\n",
       "      <th>2</th>\n",
       "      <td>0</td>\n",
       "      <td>28.0</td>\n",
       "      <td>0</td>\n",
       "      <td>0</td>\n",
       "      <td>4</td>\n",
       "      <td>27.32</td>\n",
       "      <td>5.7</td>\n",
       "      <td>158</td>\n",
       "      <td>-1</td>\n",
       "    </tr>\n",
       "    <tr>\n",
       "      <th>3</th>\n",
       "      <td>1</td>\n",
       "      <td>36.0</td>\n",
       "      <td>0</td>\n",
       "      <td>0</td>\n",
       "      <td>1</td>\n",
       "      <td>23.45</td>\n",
       "      <td>5.0</td>\n",
       "      <td>155</td>\n",
       "      <td>-1</td>\n",
       "    </tr>\n",
       "    <tr>\n",
       "      <th>4</th>\n",
       "      <td>0</td>\n",
       "      <td>76.0</td>\n",
       "      <td>1</td>\n",
       "      <td>1</td>\n",
       "      <td>1</td>\n",
       "      <td>20.14</td>\n",
       "      <td>4.8</td>\n",
       "      <td>155</td>\n",
       "      <td>-1</td>\n",
       "    </tr>\n",
       "  </tbody>\n",
       "</table>\n",
       "</div>"
      ],
      "text/plain": [
       "   gender   age  hypertension  heart_disease  smoking_history    bmi  \\\n",
       "0       1  80.0             0              1                4  25.19   \n",
       "1       1  54.0             0              0                0  27.32   \n",
       "2       0  28.0             0              0                4  27.32   \n",
       "3       1  36.0             0              0                1  23.45   \n",
       "4       0  76.0             1              1                1  20.14   \n",
       "\n",
       "   HbA1c_level  blood_glucose_level  diabetes  \n",
       "0          6.6                  140        -1  \n",
       "1          6.6                   80        -1  \n",
       "2          5.7                  158        -1  \n",
       "3          5.0                  155        -1  \n",
       "4          4.8                  155        -1  "
      ]
     },
     "execution_count": 4,
     "metadata": {},
     "output_type": "execute_result"
    }
   ],
   "source": [
    "df = pd.read_csv(\"diabetes_prediction_dataset.csv\")\n",
    "\n",
    "df['gender'] = df['gender'].map({\n",
    "    'Male': 0,\n",
    "    'Female': 1,\n",
    "    'Other': 2\n",
    "})\n",
    "\n",
    "df['smoking_history'] = df['smoking_history'].astype('category').cat.codes\n",
    "\n",
    "df['diabetes'] = df['diabetes'].map({1: 1, 0: -1})\n",
    "\n",
    "df.head()"
   ]
  },
  {
   "cell_type": "markdown",
   "id": "88d2245b-3a9e-4b17-a5e3-b2d8365034db",
   "metadata": {},
   "source": [
    "### Now all feature varilables are numerics.\n",
    "\n",
    "### &#128721; STOP (1 Point)\n",
    "**Pause, save and commit your changes to your Git repository!**\n",
    "\n",
    "Take a moment to save your notebook, commit the changes to your Git repository with a meaningful commit message.\n",
    "\n",
    "\n",
    "\n",
    "---\n",
    "\n",
    "## 2.2 Binary perceptron classifier\n",
    "\n",
    "Copy your perceptron class to the cell below. \n",
    "\n",
    "* DO NOT use the one from statsmodel. We want to test the perceptron you built.\n",
    "* Note that your predict method should output `+1` or `-1` for positive or negative values, respectively.\n",
    "* A functional perceptron classifier gets **4 pt**."
   ]
  },
  {
   "cell_type": "code",
   "execution_count": 6,
   "id": "22f7672c-5fc3-4c4f-8d06-ec88508c81e9",
   "metadata": {},
   "outputs": [],
   "source": [
    "# copy your perceptron class to his cell\n",
    "import numpy as np\n",
    "\n",
    "class MyPerceptron:\n",
    "    def __init__(self, labeled_data, iters=1000, learning_rate=0.01):\n",
    "        self.data = np.array(labeled_data)\n",
    "        self.num_features = self.data.shape[1] - 1  \n",
    "        self.weights = np.ones(self.num_features + 1) \n",
    "        self.iters = iters\n",
    "        self.learning_rate = learning_rate\n",
    "\n",
    "    def predict(self, feature_set):\n",
    "        result = np.dot(self.weights[1:], feature_set) + self.weights[0]  \n",
    "        return 1 if result > 0 else -1\n",
    "\n",
    "    def fit(self):\n",
    "        for _ in range(self.iters):\n",
    "            for row in self.data:\n",
    "                features_row = row[:self.num_features]\n",
    "                label = row[-1]\n",
    "                prediction = self.predict(features_row)\n",
    "                if prediction != label:\n",
    "                    for i in range(self.num_features):\n",
    "                        self.weights[i + 1] += self.learning_rate * (label - prediction) * features_row[i]\n",
    "                    self.weights[0] += self.learning_rate * (label - prediction)\n",
    "\n",
    "    def errors(self):\n",
    "        error_count = 0\n",
    "        for row in self.data:\n",
    "            features_row = row[:self.num_features]\n",
    "            label = row[-1]\n",
    "            prediction = self.predict(features_row)\n",
    "            if prediction != label:\n",
    "                error_count += 1\n",
    "        print(f\"Number of misclassified samples: {error_count}\")\n",
    "        print(f\"Final weights: {self.weights}\")"
   ]
  },
  {
   "cell_type": "markdown",
   "id": "c38cf279-13af-4402-94c4-2c418d3d97a5",
   "metadata": {},
   "source": [
    "* Split data to 70-30 train-test sets **1 pt**.\n",
    "* Train your perceptron.\n",
    "* Show the accuracy of your pereptron **2 pt**."
   ]
  },
  {
   "cell_type": "code",
   "execution_count": 8,
   "id": "7986537a-e054-4286-91a4-9ba639e3c53d",
   "metadata": {},
   "outputs": [
    {
     "name": "stdout",
     "output_type": "stream",
     "text": [
      "Accuracy on test set: 0.9584\n"
     ]
    }
   ],
   "source": [
    "import pandas as pd\n",
    "import numpy as np\n",
    "from sklearn.model_selection import train_test_split\n",
    "\n",
    "df = pd.read_csv(\"diabetes_prediction_dataset.csv\")\n",
    "df['gender'] = df['gender'].map({'Male': 0, 'Female': 1, 'Other': 2})\n",
    "df['smoking_history'] = df['smoking_history'].astype('category').cat.codes\n",
    "df['diabetes'] = df['diabetes'].map({1: 1, 0: -1})\n",
    "\n",
    "features = df.drop(columns=['diabetes']).to_numpy()\n",
    "labels = df['diabetes'].to_numpy()\n",
    "data = np.hstack((features, labels.reshape(-1, 1)))\n",
    "\n",
    "train_data, test_data = train_test_split(data, test_size=0.3, random_state=42)\n",
    "\n",
    "perceptron = MyPerceptron(train_data, iters=1000, learning_rate=0.01)\n",
    "perceptron.fit()\n",
    "\n",
    "correct = 0\n",
    "for row in test_data:\n",
    "    sample_features = row[:-1]\n",
    "    label = row[-1]\n",
    "    prediction = perceptron.predict(sample_features)\n",
    "    if prediction == label:\n",
    "        correct += 1\n",
    "\n",
    "accuracy = correct / len(test_data)\n",
    "print(f\"Accuracy on test set: {accuracy:.4f}\")"
   ]
  },
  {
   "cell_type": "markdown",
   "id": "22521abe-9552-41ec-8512-6995a7245ed7",
   "metadata": {},
   "source": [
    "* Use test set to evaulate the accuracy of your perceptron. What is your accuracy? (**2 pt**)"
   ]
  },
  {
   "cell_type": "code",
   "execution_count": 12,
   "id": "3f6dd4c5-7bc1-4e9b-83e4-0417543b52d3",
   "metadata": {},
   "outputs": [
    {
     "name": "stdout",
     "output_type": "stream",
     "text": [
      "Accuracy on test set: 0.9584\n"
     ]
    }
   ],
   "source": [
    "# put your code here\n",
    "correct = 0\n",
    "for row in test_data:\n",
    "    sample_features = row[:-1] \n",
    "    label = row[-1]\n",
    "    prediction = perceptron.predict(sample_features)  \n",
    "    if prediction == label:\n",
    "        correct += 1\n",
    "\n",
    "accuracy = correct / len(test_data)\n",
    "print(f\"Accuracy on test set: {accuracy:.4f}\")\n",
    "\n",
    "#Accuracy = 0.9584"
   ]
  },
  {
   "cell_type": "markdown",
   "id": "bf59cd13-1358-48ad-a11c-2371277e0b55",
   "metadata": {},
   "source": [
    "* There may be some ways to increase the accruacy, such as increasing the number of train iterations or adjust learning rate. Give a try to train a perceptron you can best get. Record the values of parameters and the optimal accuracy. (**3 pt**)\n"
   ]
  },
  {
   "cell_type": "code",
   "execution_count": 34,
   "id": "3498a824-d111-451e-9119-6f85964bca45",
   "metadata": {},
   "outputs": [
    {
     "name": "stdout",
     "output_type": "stream",
     "text": [
      "iters=1000, learning_rate=0.01 => Accuracy: 0.9584\n",
      "\n",
      "Best accuracy 0.9584 achieved with iters=1000 and learning_rate=0.01\n"
     ]
    }
   ],
   "source": [
    "# put your code here\n",
    "def evaluate_perceptron(train_data, test_data, iters, learning_rate):\n",
    "    perceptron = MyPerceptron(train_data, iters=iters, learning_rate=learning_rate)\n",
    "    perceptron.fit()\n",
    "\n",
    "    correct = 0\n",
    "    for row in test_data:\n",
    "        features = row[:-1]\n",
    "        label = row[-1]\n",
    "        prediction = perceptron.predict(features)\n",
    "        if prediction == label:\n",
    "            correct += 1\n",
    "\n",
    "    accuracy = correct / len(test_data)\n",
    "    return accuracy\n",
    "\n",
    "settings = [(1000, 0.01)]\n",
    "\n",
    "best_accuracy = 0\n",
    "best_setting = None\n",
    "\n",
    "for iters, lr in settings:\n",
    "    acc = evaluate_perceptron(train_data, test_data, iters, lr)\n",
    "    print(f\"iters={iters}, learning_rate={lr} => Accuracy: {acc:.4f}\")\n",
    "    if acc > best_accuracy:\n",
    "        best_accuracy = acc\n",
    "        best_setting = (iters, lr)\n",
    "\n",
    "print(f\"\\nBest accuracy {best_accuracy:.4f} achieved with iters={best_setting[0]} and learning_rate={best_setting[1]}\")"
   ]
  },
  {
   "cell_type": "markdown",
   "id": "41900123-9fa6-4dbb-81de-0b90edc3d9e5",
   "metadata": {},
   "source": [
    "### &#128721; STOP (1 Point)\n",
    "**Pause, save and commit your changes to your Git repository!**\n",
    "\n",
    "Take a moment to save your notebook, commit the changes to your Git repository with a meaningful commit message.\n",
    "\n",
    "---\n",
    "\n",
    "### 2.3 Next we shall test perceptron's capability of multiple-label classification.\n",
    "\n",
    "* Dowdload the dataset from `https://raw.githubusercontent.com/huichiayu/cmse202-s25-supllemental_data/refs/heads/main/HW04/Telecust1.csv`.\n",
    "* This is a customer category dataset (Kraggle/Customer Classification). Each cusmtoer has several feature variables.\n",
    "* There are five categories of customers, which are non-numerics. Thus, let's convert those string labels to numerics.\n",
    "* Successful data load-up gets **2 pt**."
   ]
  },
  {
   "cell_type": "code",
   "execution_count": 38,
   "id": "2f57127a-9d83-4408-a18d-8adfb800eb2f",
   "metadata": {},
   "outputs": [
    {
     "name": "stdout",
     "output_type": "stream",
     "text": [
      "   region  tenure  age  income  marital  address  ed  employ  retire  gender  \\\n",
      "0       2      13   44      64        1        9   4       5       0       0   \n",
      "1       3      11   33     136        1        7   5       5       0       0   \n",
      "2       3      68   52     116        1       24   1      29       0       1   \n",
      "3       2      33   33      33        0       12   2       0       0       1   \n",
      "4       2      23   30      30        1        9   1       2       0       0   \n",
      "\n",
      "   reside custcat  \n",
      "0       2       A  \n",
      "1       6       D  \n",
      "2       2       C  \n",
      "3       1       A  \n",
      "4       4       C  \n"
     ]
    }
   ],
   "source": [
    "# Download and load the dataset. Convert non-numerical labels to numerics.\n",
    "# put your code here\n",
    "\n",
    "telecust_df = pd.read_csv('Telecust1.csv')\n",
    "\n",
    "print(telecust_df.head())"
   ]
  },
  {
   "cell_type": "markdown",
   "id": "ffcab03b-57fb-4268-81dc-e72281bfceb1",
   "metadata": {},
   "source": [
    "---\n",
    "### 2.4 Multi-label perceptron classification\n",
    "\n",
    "* As we know, perceptron is a binary classifier. For multiple-label classification, we can use One-vs-Rest (OvR) Strategy.\n",
    "* In this case, let's train five individual perceptrons. \n",
    "* For each classifier, it treats the current class as \"positive\" and all others as \"negative.\"\n",
    "* When classifying a new sample, each classifier gives a \"score,\" and the class with the highest score is chosen.\n",
    "\n",
    "Copy your perceptron to the code cell below. We need to add a score method, which outputs dot of weights and features, as opposed to the previous binary predict method. The score method should output a signed floating score value, not `+1` or `-1`. This can be done by removing the binary segmenting, i.e., directly outputing the dot value.\n",
    "\n",
    "* Functioning score() method gets **2 pt**."
   ]
  },
  {
   "cell_type": "code",
   "execution_count": 40,
   "id": "f7996b89-84fb-4272-9c30-c5293a97455b",
   "metadata": {},
   "outputs": [],
   "source": [
    "# put your modified perceptron class here\n",
    "import numpy as np\n",
    "\n",
    "class MyPerceptronMulti:\n",
    "    def __init__(self, labeled_data, iters=1000, learning_rate=0.01):\n",
    "        self.data = np.array(labeled_data)\n",
    "        self.num_features = self.data.shape[1] - 1  \n",
    "        self.weights = np.ones(self.num_features + 1)\n",
    "        self.iters = iters\n",
    "        self.learning_rate = learning_rate\n",
    "\n",
    "    def predict(self, feature_set):\n",
    "        result = np.dot(self.weights[1:], feature_set) + self.weights[0]\n",
    "        return 1 if result > 0 else -1\n",
    "\n",
    "    def score(self, feature_set):\n",
    "        result = np.dot(self.weights[1:], feature_set) + self.weights[0]\n",
    "        return result\n",
    "\n",
    "    def fit(self):\n",
    "        for _ in range(self.iters):\n",
    "            for row in self.data:\n",
    "                features_row = row[:self.num_features]\n",
    "                label = row[-1]\n",
    "                prediction = self.predict(features_row)\n",
    "                if prediction != label:\n",
    "                    for i in range(self.num_features):\n",
    "                        self.weights[i + 1] += self.learning_rate * (label - prediction) * features_row[i]\n",
    "                    self.weights[0] += self.learning_rate * (label - prediction)\n",
    "\n",
    "    def errors(self):\n",
    "        error_count = 0\n",
    "        for row in self.data:\n",
    "            features_row = row[:self.num_features]\n",
    "            label = row[-1]\n",
    "            prediction = self.predict(features_row)\n",
    "            if prediction != label:\n",
    "                error_count += 1\n",
    "        print(f\"Number of misclassified samples: {error_count}\")\n",
    "        print(f\"Final weights: {self.weights}\")"
   ]
  },
  {
   "cell_type": "markdown",
   "id": "395e1e42-e58d-49c5-a7ce-bdbb9f8e3d50",
   "metadata": {},
   "source": [
    "* Now let's do a train-test split of the data with a test_size = 0.3.\n",
    "* Since we are training 5 perceptrons, we should have have 5 class label sets. For instance, in the label set for category A, the label value will be `+1` if it's type A and otherwise `-1`.\n",
    "* Setting label sets gets **4 pt**."
   ]
  },
  {
   "cell_type": "code",
   "execution_count": 52,
   "id": "e59a1422-8984-49b8-889e-e34c6172e8f6",
   "metadata": {},
   "outputs": [
    {
     "name": "stdout",
     "output_type": "stream",
     "text": [
      "Classes found: [0 1 2 3]\n",
      "Example labels for Class 0 (train): [-1 -1 -1 -1 -1 -1 -1 -1 -1 -1]\n",
      "Example labels for Class 0 (test): [-1  1 -1 -1  1 -1 -1 -1  1  1]\n"
     ]
    }
   ],
   "source": [
    "telecust_df = pd.read_csv('Telecust1.csv')\n",
    "\n",
    "telecust_df['custcat'] = telecust_df['custcat'].astype('category').cat.codes\n",
    "\n",
    "features = telecust_df.drop(columns=['custcat']).to_numpy()\n",
    "labels = telecust_df['custcat'].to_numpy()\n",
    "\n",
    "X_train, X_test, y_train, y_test = train_test_split(features, labels, test_size=0.3, random_state=42)\n",
    "\n",
    "classes = np.unique(y_train)\n",
    "print(f\"Classes found: {classes}\")\n",
    "\n",
    "label_sets_train = {}\n",
    "label_sets_test = {}\n",
    "\n",
    "for cls in classes:\n",
    "    label_sets_train[cls] = np.where(y_train == cls, 1, -1)\n",
    "    label_sets_test[cls] = np.where(y_test == cls, 1, -1)\n",
    "\n",
    "print(\"Example labels for Class 0 (train):\", label_sets_train[0][:10])\n",
    "print(\"Example labels for Class 0 (test):\", label_sets_test[0][:10])"
   ]
  },
  {
   "cell_type": "markdown",
   "id": "5245187a-3ed6-4cc4-a844-7fd0493707c9",
   "metadata": {},
   "source": [
    "* Use training set and the 5 training label sets to train your 5 perceptrons. Report the accuracy of those five training.\n",
    "* Efficiently train the five perceptrons using nest loop gets **5 pt**.\n"
   ]
  },
  {
   "cell_type": "code",
   "execution_count": 54,
   "id": "be107995-7f86-48d8-b24a-d3f3ed8b9e62",
   "metadata": {},
   "outputs": [
    {
     "name": "stdout",
     "output_type": "stream",
     "text": [
      "\n",
      "Training Perceptron for Class 0...\n",
      "Training accuracy for Class 0: 0.7486\n",
      "\n",
      "Training Perceptron for Class 1...\n",
      "Training accuracy for Class 1: 0.3600\n",
      "\n",
      "Training Perceptron for Class 2...\n",
      "Training accuracy for Class 2: 0.7171\n",
      "\n",
      "Training Perceptron for Class 3...\n",
      "Training accuracy for Class 3: 0.7429\n"
     ]
    }
   ],
   "source": [
    "# put your code here\n",
    "perceptrons = {} \n",
    "accuracies = {}   \n",
    "\n",
    "for cls in classes:\n",
    "    print(f\"\\nTraining Perceptron for Class {cls}...\")\n",
    "\n",
    "    train_data_for_class = np.hstack((X_train, label_sets_train[cls].reshape(-1, 1)))\n",
    "\n",
    "    p = MyPerceptronMulti(train_data_for_class, iters=1000, learning_rate=0.01)\n",
    "    p.fit()\n",
    "\n",
    "    perceptrons[cls] = p\n",
    "\n",
    "    correct = 0\n",
    "    for i in range(len(X_train)):\n",
    "        sample_features = X_train[i]\n",
    "        label = label_sets_train[cls][i]\n",
    "        prediction = p.predict(sample_features)\n",
    "        if prediction == label:\n",
    "            correct += 1\n",
    "\n",
    "    accuracy = correct / len(X_train)\n",
    "    accuracies[cls] = accuracy\n",
    "    print(f\"Training accuracy for Class {cls}: {accuracy:.4f}\")"
   ]
  },
  {
   "cell_type": "markdown",
   "id": "3e550cc5-fbc2-42a2-8713-881783f2c7f9",
   "metadata": {},
   "source": [
    "* Use the test vector to examine the accuracy.\n",
    "* For each feature set, there should be 5 output scores, each from a perceptron. The predicted label should be the label that corresponds to the highest score.\n",
    "* Report your accuracy. (**3 pt**)"
   ]
  },
  {
   "cell_type": "code",
   "execution_count": 58,
   "id": "1e549131-9459-437b-b627-bc99e0fa93cf",
   "metadata": {},
   "outputs": [
    {
     "name": "stdout",
     "output_type": "stream",
     "text": [
      "Overall multi-class test accuracy: 0.2533\n"
     ]
    }
   ],
   "source": [
    "# put your code here\n",
    "correct = 0\n",
    "\n",
    "for i in range(len(X_test)):\n",
    "    sample_features = X_test[i]\n",
    "    \n",
    "    scores = {}\n",
    "    for cls in perceptrons.keys():\n",
    "        scores[cls] = perceptrons[cls].score(sample_features)\n",
    "    \n",
    "    predicted_label = max(scores, key=scores.get)\n",
    "    \n",
    "    if predicted_label == y_test[i]:\n",
    "        correct += 1\n",
    "\n",
    "accuracy = correct / len(X_test)\n",
    "\n",
    "print(f\"Overall multi-class test accuracy: {accuracy:.4f}\")"
   ]
  },
  {
   "cell_type": "markdown",
   "id": "fd31084b-0308-4fd0-b912-bf42f13ee674",
   "metadata": {},
   "source": [
    "How good is your multiple-label perceptron classification?"
   ]
  },
  {
   "cell_type": "markdown",
   "id": "c598a593-aac1-48b7-b634-f6c046f256f3",
   "metadata": {},
   "source": [
    "<font size=6 color=\"#009600\">&#9998;</font> Only 0.2533 accuracy. Not great"
   ]
  },
  {
   "cell_type": "markdown",
   "id": "c08b1bce-e2ce-4bd4-ae8e-9aca6d76a163",
   "metadata": {},
   "source": [
    "\n",
    "### &#128721; STOP (1 Point)\n",
    "**Pause, save and commit your changes to your Git repository!**\n",
    "\n",
    "Take a moment to save your notebook, commit the changes to your Git repository with a meaningful commit message.\n",
    "\n",
    "---\n",
    "## Part 3 SVM classifiers (19 points)\n",
    "\n",
    "### 3.1 SVM \n",
    "\n",
    "Let's re-use the customer category data. There are five caterogies with multiple feature variables.\n",
    "\n",
    "* Use sklearn library to build a SVM classifier. Since we do not know what the best parametes are, perform a GridSearch for best parameters.\n",
    "* NOTE: Because the dataset contains a large number of points, it's expected to have a long computer running time for GridSearch. Thus, let's use only the first 200 data points for GridSearch. You can start the grid search parameter like the image below. However, **NOTE** that if the kernal used cannot find a hyperplane to classify data points, the GridSearch function will stall. You need to manually remove that kernal from the parameter set and re-run GridSearch.\n",
    "  \n",
    "<img src=\"https://i.ibb.co/JWrp6c4q/Grid-Search-Param.png\" width=\"650\">\n",
    "\n",
    "\n",
    "* As in the previous section, make a 70-30 train-test split and train your SVM classifier.\n",
    "* Complete GridSearch to extract best parameters gets **5 pt**."
   ]
  },
  {
   "cell_type": "code",
   "execution_count": 64,
   "id": "eb83c8b3-cc1b-4fa6-a2f7-f627339586d8",
   "metadata": {},
   "outputs": [
    {
     "name": "stdout",
     "output_type": "stream",
     "text": [
      "🔍 Starting GridSearchCV...\n",
      "✅ Grid search complete.\n",
      "Best parameters: {'C': 10, 'gamma': 0.0001, 'kernel': 'linear'}\n",
      "Best cross-validation score: 0.4429\n",
      "Test accuracy using best SVM: 0.4667\n"
     ]
    }
   ],
   "source": [
    "# put your code here.\n",
    "from sklearn.model_selection import train_test_split, GridSearchCV\n",
    "from sklearn.svm import SVC\n",
    "from sklearn.metrics import accuracy_score\n",
    "import pandas as pd\n",
    "\n",
    "df = pd.read_csv('Telecust1.csv')\n",
    "\n",
    "df['custcat'] = df['custcat'].astype('category').cat.codes\n",
    "\n",
    "df_small = df.iloc[:200]\n",
    "\n",
    "X = df_small.drop(columns=['custcat']).to_numpy()\n",
    "y = df_small['custcat'].to_numpy()\n",
    "\n",
    "X_train, X_test, y_train, y_test = train_test_split(X, y, test_size=0.3, random_state=42)\n",
    "\n",
    "param_grid = {\n",
    "    'C': [1e-2, 1e-1, 1, 10],\n",
    "    'gamma': [1e-4, 0.001, 0.01, 0.1, 1],\n",
    "    'kernel': ['linear', 'rbf']  \n",
    "}\n",
    "\n",
    "clf = GridSearchCV(SVC(class_weight='balanced'), param_grid, cv=5)\n",
    "\n",
    "print(\"🔍 Starting GridSearchCV...\")\n",
    "clf.fit(X_train, y_train)\n",
    "print(\"✅ Grid search complete.\")\n",
    "\n",
    "print(f\"Best parameters: {clf.best_params_}\")\n",
    "print(f\"Best cross-validation score: {clf.best_score_:.4f}\")\n",
    "\n",
    "y_pred = clf.predict(X_test)\n",
    "accuracy = accuracy_score(y_test, y_pred)\n",
    "print(f\"Test accuracy using best SVM: {accuracy:.4f}\")\n",
    "\n",
    "#accuracy is okay. Not the best."
   ]
  },
  {
   "cell_type": "markdown",
   "id": "af730354-6eee-40f2-9a19-a20c8be0f3db",
   "metadata": {},
   "source": [
    "* Examine the accuracy of this SVC and report the accuracy. Draw a confusion matrix. **2 pt**"
   ]
  },
  {
   "cell_type": "code",
   "execution_count": 68,
   "id": "527b7f0b-97b1-474f-b0b0-09574d54a6f9",
   "metadata": {},
   "outputs": [
    {
     "data": {
      "text/plain": [
       "<sklearn.metrics._plot.confusion_matrix.ConfusionMatrixDisplay at 0x3108e4470>"
      ]
     },
     "execution_count": 68,
     "metadata": {},
     "output_type": "execute_result"
    },
    {
     "data": {
      "image/png": "[encoded data removed]",
      "text/plain": [
       "<Figure size 640x480 with 2 Axes>"
      ]
     },
     "metadata": {},
     "output_type": "display_data"
    }
   ],
   "source": [
    "# put your code here\n",
    "from sklearn.metrics import confusion_matrix, ConfusionMatrixDisplay\n",
    "\n",
    "cm = confusion_matrix(y_test, y_pred)\n",
    "\n",
    "disp = ConfusionMatrixDisplay(confusion_matrix=cm)\n",
    "disp.plot(cmap='Blues', values_format='d')  "
   ]
  },
  {
   "cell_type": "markdown",
   "id": "baf396ba-1d88-4d14-8771-210dc41fcbcf",
   "metadata": {},
   "source": [
    "Does SVM classifier work much better than your percetron?"
   ]
  },
  {
   "cell_type": "markdown",
   "id": "81488c96-0326-408f-aed9-d956ee068d65",
   "metadata": {},
   "source": [
    "<font size=6 color=\"#009600\">&#9998;</font> No it does not. About less than half as well."
   ]
  },
  {
   "cell_type": "markdown",
   "id": "5cf5af1a-7950-4356-bc42-29c41b31c03d",
   "metadata": {},
   "source": [
    "### &#128721; STOP (1 Point)\n",
    "**Pause, save and commit your changes to your Git repository!**\n",
    "\n",
    "Take a moment to save your notebook, commit the changes to your Git repository with a meaningful commit message.\n",
    "\n",
    "---\n",
    "### 3.2 PCA \n",
    "\n",
    "Although we only have 11 feature variables in the dataset, let's examine how much principal component analysis (PCA) can accelerate the classification. We will increase the PCA components from 1 to 11. For each case, we will perform a GridSearch and use test set to examine the accuracy. \n",
    "\n",
    "* Write a code to loop over n_components = 1 through 11. **4 pt**\n",
    "* Record the accuracy of each case and plot the profile of accuracy versus n_components. In the mean time, record the computer run times and plot the profile of time versus n_components. **2 pt**\n",
    "\n",
    "\n"
   ]
  },
  {
   "cell_type": "code",
   "execution_count": 75,
   "id": "6cb7c31b-cc0f-4ce7-9156-cc1207b26186",
   "metadata": {},
   "outputs": [
    {
     "name": "stdout",
     "output_type": "stream",
     "text": [
      "n_components = 1 | Accuracy: 0.3333 | Time: 0.85s\n",
      "n_components = 2 | Accuracy: 0.3167 | Time: 5.65s\n",
      "n_components = 3 | Accuracy: 0.3000 | Time: 4.67s\n",
      "n_components = 4 | Accuracy: 0.4000 | Time: 4.83s\n",
      "n_components = 5 | Accuracy: 0.4167 | Time: 13.66s\n",
      "n_components = 6 | Accuracy: 0.4167 | Time: 7.13s\n",
      "n_components = 7 | Accuracy: 0.4167 | Time: 17.02s\n",
      "n_components = 8 | Accuracy: 0.4500 | Time: 7.38s\n",
      "n_components = 9 | Accuracy: 0.4167 | Time: 9.06s\n",
      "n_components = 10 | Accuracy: 0.4500 | Time: 11.95s\n",
      "n_components = 11 | Accuracy: 0.4167 | Time: 11.18s\n"
     ]
    },
    {
     "data": {
      "image/png": "[encoded data removed]",
      "text/plain": [
       "<Figure size 1200x500 with 2 Axes>"
      ]
     },
     "metadata": {},
     "output_type": "display_data"
    }
   ],
   "source": [
    "# put your code here\n",
    "from sklearn.decomposition import PCA\n",
    "from sklearn.svm import SVC\n",
    "from sklearn.model_selection import GridSearchCV, train_test_split\n",
    "from sklearn.metrics import accuracy_score\n",
    "import matplotlib.pyplot as plt\n",
    "import time\n",
    "import numpy as np\n",
    "import pandas as pd\n",
    "\n",
    "df = pd.read_csv('Telecust1.csv')\n",
    "df['custcat'] = df['custcat'].astype('category').cat.codes\n",
    "\n",
    "df_small = df.iloc[:200]\n",
    "\n",
    "X = df_small.drop(columns=['custcat']).to_numpy()\n",
    "y = df_small['custcat'].to_numpy()\n",
    "\n",
    "X_train, X_test, y_train, y_test = train_test_split(X, y, test_size=0.3, random_state=42)\n",
    "\n",
    "param_grid = {\n",
    "    'C': [1e-2, 1e-1, 1, 10],\n",
    "    'gamma': [1e-4, 0.001, 0.01, 0.1, 1],\n",
    "    'kernel': ['linear', 'rbf'] \n",
    "}\n",
    "\n",
    "accuracies = []\n",
    "runtimes = []\n",
    "\n",
    "for n_components in range(1, 12):\n",
    "    start_time = time.time()\n",
    "\n",
    "    pca = PCA(n_components=n_components)\n",
    "    X_train_pca = pca.fit_transform(X_train)\n",
    "    X_test_pca = pca.transform(X_test)\n",
    "\n",
    "    clf = GridSearchCV(SVC(class_weight='balanced'), param_grid, cv=3)\n",
    "    clf.fit(X_train_pca, y_train)\n",
    "\n",
    "    y_pred = clf.predict(X_test_pca)\n",
    "    accuracy = accuracy_score(y_test, y_pred)\n",
    "\n",
    "    end_time = time.time()\n",
    "\n",
    "    accuracies.append(accuracy)\n",
    "    runtimes.append(end_time - start_time)\n",
    "\n",
    "    print(f\"n_components = {n_components} | Accuracy: {accuracy:.4f} | Time: {end_time - start_time:.2f}s\")\n",
    "\n",
    "plt.figure(figsize=(12, 5))\n",
    "\n",
    "plt.subplot(1, 2, 1)\n",
    "plt.plot(range(1, 12), accuracies, marker='o')\n",
    "plt.title('Accuracy vs PCA Components')\n",
    "plt.xlabel('n_components')\n",
    "plt.ylabel('Test Accuracy')\n",
    "\n",
    "plt.subplot(1, 2, 2)\n",
    "plt.plot(range(1, 12), runtimes, marker='o', color='orange')\n",
    "plt.title('Runtime vs PCA Components')\n",
    "plt.xlabel('n_components')\n",
    "plt.ylabel('Runtime (seconds)')\n",
    "\n",
    "plt.tight_layout()\n",
    "plt.show()"
   ]
  },
  {
   "cell_type": "markdown",
   "id": "79f02dd4-9ad8-416f-8324-cede07489a0a",
   "metadata": {},
   "source": [
    "Please answer the following questions. \n",
    "* How is the overall accuracy of this SVM classifier?  **1 pt**\n",
    "* If the performance is not good, what do you think the cause is? **2 pt**"
   ]
  },
  {
   "cell_type": "markdown",
   "id": "bcb5f56b-173e-4013-9ccb-cd717aaf2524",
   "metadata": {},
   "source": [
    "<font size=6 color=\"#009600\">&#9998;</font> Accuracy is below 50. Not too accurate. I believe the data set was too small."
   ]
  },
  {
   "cell_type": "markdown",
   "id": "c7ccaefe-5020-42f3-8d1b-2359bcdb535d",
   "metadata": {},
   "source": [
    "* Describe the curves of time vs n_components and accuracy vs n_components. **1 pt**\n",
    "* Explain why the curves behave as they are in the figures **2 pt**"
   ]
  },
  {
   "cell_type": "markdown",
   "id": "43066ffe-1bdb-4c50-b4dd-ecec5287fc64",
   "metadata": {},
   "source": [
    "<font size=6 color=\"#009600\">&#9998;</font> Both looked vastly different. time was more even, but it can't really be called even since it is all over the place. but still trending around the same. "
   ]
  },
  {
   "cell_type": "markdown",
   "id": "2c10fcb2-8d8b-4e2f-a9fe-5b998e646114",
   "metadata": {},
   "source": [
    "### &#128721; STOP (1 Point)\n",
    "**Pause, save and commit your FINAL changes to your Git repository!**\n",
    "\n",
    "Take a moment to save your notebook, commit the changes to your Git repository with a meaningful commit message.\n",
    "\n",
    "\n",
    "\n",
    "---\n",
    "## Assignment wrap-up\n",
    "\n",
    "\n",
    "Please fill out the form that appears when you run the code below.  **You must completely fill this out in order to receive credit for the assignment!**\n",
    "\n"
   ]
  },
  {
   "cell_type": "code",
   "execution_count": null,
   "id": "8daa2c83-4226-47d8-ad62-0a15001b3261",
   "metadata": {},
   "outputs": [],
   "source": [
    "from IPython.display import HTML\n",
    "HTML(\n",
    "\"\"\"\n",
    "<iframe \n",
    "\tsrc=\"https://forms.office.com/r/mB0YjLYvAA\" \n",
    "\twidth=\"800px\" \n",
    "\theight=\"600px\" \n",
    "\tframeborder=\"0\" \n",
    "\tmarginheight=\"0\" \n",
    "\tmarginwidth=\"0\">\n",
    "\tLoading...\n",
    "</iframe>\n",
    "\"\"\"\n",
    ")"
   ]
  },
  {
   "cell_type": "markdown",
   "id": "ba1f1ca9-1cce-4437-a38d-163b31945d70",
   "metadata": {},
   "source": [
    "## Congratulations, you're done!\n",
    "\n",
    "&#169; Copyright 2025,  Department of Computational Mathematics, Science and Engineering at Michigan State University"
   ]
  },
  {
   "cell_type": "code",
   "execution_count": null,
   "id": "e08ef267-8dfb-4e1c-86b7-d4c4d42d6bde",
   "metadata": {},
   "outputs": [],
   "source": []
  }
 ],
 "metadata": {
  "kernelspec": {
   "display_name": "Python 3 (ipykernel)",
   "language": "python",
   "name": "python3"
  },
  "language_info": {
   "codemirror_mode": {
    "name": "ipython",
    "version": 3
   },
   "file_extension": ".py",
   "mimetype": "text/x-python",
   "name": "python",
   "nbconvert_exporter": "python",
   "pygments_lexer": "ipython3",
   "version": "3.12.2"
  }
 },
 "nbformat": 4,
 "nbformat_minor": 5
}
